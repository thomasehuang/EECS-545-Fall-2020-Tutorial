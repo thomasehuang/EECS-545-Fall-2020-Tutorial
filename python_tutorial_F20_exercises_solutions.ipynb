{
 "cells": [
  {
   "cell_type": "markdown",
   "metadata": {},
   "source": [
    "# Python Tutorial Exercises Solutions\n",
    "\n",
    "These python tutorial exercises is for EECS 545 Fall 2020. \n",
    "Instructor: Clayton Scott.\n",
    "GSIs: Haonan Zhu, Tony Zhang, Conrad Hougen, Thomas Huang."
   ]
  },
  {
   "cell_type": "markdown",
   "metadata": {},
   "source": [
    "Note: There can be multiple solutions to each exercise; our solution is just one of them. If you solved the exercise with a different method, then great! Though, if our solution is much simpler than yours, it may be worth it to learn from our solution, since often times you will find existing functions that you didn't know about that does exactly what you want."
   ]
  },
  {
   "cell_type": "markdown",
   "metadata": {},
   "source": [
    "## Basic Python"
   ]
  },
  {
   "cell_type": "code",
   "execution_count": 1,
   "metadata": {},
   "outputs": [
    {
     "name": "stdout",
     "output_type": "stream",
     "text": [
      "\n"
     ]
    }
   ],
   "source": [
    "\"\"\"\n",
    "Create a function called num_sum that takes as input an integer n.\n",
    "Return two outputs:\n",
    "1. A list of all integers that are divisible by 3 or 7 between 0\n",
    "    and n inclusive.\n",
    "2. The sum of the above list.\n",
    "\"\"\"\n",
    "def num_sum(n):\n",
    "    ints = []\n",
    "    for i in range(n+1):\n",
    "        if i % 3 == 0 or i % 7 == 0:\n",
    "            ints.append(i)\n",
    "    return ints, sum(ints)\n",
    "\n",
    "# cleaner version, but the same functionality\n",
    "def num_sum(n):\n",
    "    ints = [i for i in range(n+1) if i % 3 == 0 or i % 7 == 0]\n",
    "    return ints, sum(ints)\n",
    "\n",
    "print()"
   ]
  },
  {
   "cell_type": "code",
   "execution_count": 2,
   "metadata": {},
   "outputs": [
    {
     "name": "stdout",
     "output_type": "stream",
     "text": [
      "([0], 0)\n",
      "([0, 3, 6, 7, 9], 25)\n",
      "([0, 3, 6, 7, 9, 12, 14, 15, 18, 21, 24, 27, 28, 30], 214)\n",
      "\n",
      "([0], 0)\n",
      "([0, 3, 6, 7, 9], 25)\n",
      "([0, 3, 6, 7, 9, 12, 14, 15, 18, 21, 24, 27, 28, 30], 214)\n",
      "\n"
     ]
    }
   ],
   "source": [
    "# Check against solution\n",
    "print(num_sum(0))\n",
    "print(num_sum(10))\n",
    "print(num_sum(30))\n",
    "\n",
    "# Solution\n",
    "print(\"\"\"\n",
    "([0], 0)\n",
    "([0, 3, 6, 7, 9], 25)\n",
    "([0, 3, 6, 7, 9, 12, 14, 15, 18, 21, 24, 27, 28, 30], 214)\n",
    "\"\"\")"
   ]
  },
  {
   "cell_type": "markdown",
   "metadata": {},
   "source": [
    "## NumPy"
   ]
  },
  {
   "cell_type": "markdown",
   "metadata": {},
   "source": [
    "### Part a) Creating NumPy arrays"
   ]
  },
  {
   "cell_type": "code",
   "execution_count": 3,
   "metadata": {},
   "outputs": [
    {
     "name": "stdout",
     "output_type": "stream",
     "text": [
      "\n"
     ]
    }
   ],
   "source": [
    "import numpy as np\n",
    "np.random.seed(0)\n",
    "\n",
    "\"\"\"\n",
    "Create four NumPy arrays with the following conditions:\n",
    "- a is a 3x2 array that consists of values sampled from a uniform\n",
    "    distribution over [0,1).\n",
    "- b is a 2x1 array that consists of values sampled from a standard\n",
    "    normal distribution.\n",
    "- c is a 2x1 array that consists of only ones.\n",
    "- d is a 2x2 array that consists of only zeros with type int.\n",
    "\"\"\"\n",
    "a = np.random.rand(3,2)\n",
    "b = np.random.randn(2,1)\n",
    "c = np.ones([2,1])\n",
    "d = np.zeros([2,2], dtype=np.int32)\n",
    "\n",
    "print()"
   ]
  },
  {
   "cell_type": "code",
   "execution_count": 4,
   "metadata": {},
   "outputs": [
    {
     "name": "stdout",
     "output_type": "stream",
     "text": [
      "[[0.5488135  0.71518937]\n",
      " [0.60276338 0.54488318]\n",
      " [0.4236548  0.64589411]]\n",
      "[[ 0.95008842]\n",
      " [-0.15135721]]\n",
      "[[1.]\n",
      " [1.]]\n",
      "[[0 0]\n",
      " [0 0]]\n",
      "\n",
      "[[0.5488135  0.71518937]\n",
      " [0.60276338 0.54488318]\n",
      " [0.4236548  0.64589411]]\n",
      "[[ 0.95008842]\n",
      " [-0.15135721]]\n",
      "[[1.]\n",
      " [1.]]\n",
      "[[0 0]\n",
      " [0 0]]\n",
      "\n"
     ]
    }
   ],
   "source": [
    "# Check against solution\n",
    "print(a)\n",
    "print(b)\n",
    "print(c)\n",
    "print(d)\n",
    "\n",
    "# Solution\n",
    "print(\"\"\"\n",
    "[[0.5488135  0.71518937]\n",
    " [0.60276338 0.54488318]\n",
    " [0.4236548  0.64589411]]\n",
    "[[ 0.95008842]\n",
    " [-0.15135721]]\n",
    "[[1.]\n",
    " [1.]]\n",
    "[[0 0]\n",
    " [0 0]]\n",
    "\"\"\")"
   ]
  },
  {
   "cell_type": "markdown",
   "metadata": {},
   "source": [
    "### Part b) Concatenating NumPy arrays"
   ]
  },
  {
   "cell_type": "code",
   "execution_count": 5,
   "metadata": {},
   "outputs": [
    {
     "name": "stdout",
     "output_type": "stream",
     "text": [
      "\n"
     ]
    }
   ],
   "source": [
    "\"\"\"\n",
    "Create four NumPy arrays with the following conditions:\n",
    "- e is the concatenation of b and c in the first dimension.\n",
    "- f is the concatenation of b and d in the second dimension.\n",
    "- Concatenate b with another array to create g such that each row of g starts\n",
    "    with the number 1.\n",
    "- Add two rows of zeros to a through concatenation to create h.\n",
    "\"\"\"\n",
    "e = np.concatenate([b,c])\n",
    "f = np.concatenate([b,d], axis=1)\n",
    "g = np.concatenate([c,b], axis=1)\n",
    "h = np.concatenate([a,d])\n",
    "\n",
    "print()"
   ]
  },
  {
   "cell_type": "code",
   "execution_count": 6,
   "metadata": {},
   "outputs": [
    {
     "name": "stdout",
     "output_type": "stream",
     "text": [
      "[[ 0.95008842]\n",
      " [-0.15135721]\n",
      " [ 1.        ]\n",
      " [ 1.        ]]\n",
      "[[ 0.95008842  0.          0.        ]\n",
      " [-0.15135721  0.          0.        ]]\n",
      "[[ 1.          0.95008842]\n",
      " [ 1.         -0.15135721]]\n",
      "[[0.5488135  0.71518937]\n",
      " [0.60276338 0.54488318]\n",
      " [0.4236548  0.64589411]\n",
      " [0.         0.        ]\n",
      " [0.         0.        ]]\n",
      "\n",
      "[[ 0.95008842]\n",
      " [-0.15135721]\n",
      " [ 1.        ]\n",
      " [ 1.        ]]\n",
      "[[ 0.95008842  0.          0.        ]\n",
      " [-0.15135721  0.          0.        ]]\n",
      "[[ 1.          0.95008842]\n",
      " [ 1.         -0.15135721]]\n",
      "[[0.5488135  0.71518937]\n",
      " [0.60276338 0.54488318]\n",
      " [0.4236548  0.64589411]\n",
      " [0.         0.        ]\n",
      " [0.         0.        ]]\n",
      "\n"
     ]
    }
   ],
   "source": [
    "# Check against solution\n",
    "print(e)\n",
    "print(f)\n",
    "print(g)\n",
    "print(h)\n",
    "\n",
    "# Solution\n",
    "print(\"\"\"\n",
    "[[ 0.95008842]\n",
    " [-0.15135721]\n",
    " [ 1.        ]\n",
    " [ 1.        ]]\n",
    "[[ 0.95008842  0.          0.        ]\n",
    " [-0.15135721  0.          0.        ]]\n",
    "[[ 1.          0.95008842]\n",
    " [ 1.         -0.15135721]]\n",
    "[[0.5488135  0.71518937]\n",
    " [0.60276338 0.54488318]\n",
    " [0.4236548  0.64589411]\n",
    " [0.         0.        ]\n",
    " [0.         0.        ]]\n",
    "\"\"\")"
   ]
  },
  {
   "cell_type": "markdown",
   "metadata": {},
   "source": [
    "### Part c) NumPy math"
   ]
  },
  {
   "cell_type": "code",
   "execution_count": 7,
   "metadata": {},
   "outputs": [
    {
     "name": "stdout",
     "output_type": "stream",
     "text": [
      "\n"
     ]
    }
   ],
   "source": [
    "\"\"\"\n",
    "Create five NumPy arrays with the following conditions:\n",
    "- i: Compute the element-wise sum between b and c.\n",
    "- j: Compute the element-wise absolute difference between b and c.\n",
    "- k: Compute the inner product between the vectors b and c.\n",
    "- l: Compute the outer product between the vectors b and c.\n",
    "- m: Compute the matrix product between a and b.\n",
    "\"\"\"\n",
    "i = b + c\n",
    "j = np.abs(b - c)\n",
    "k = np.dot(b.T,c)\n",
    "l = np.dot(b,c.T)\n",
    "m = np.dot(a,b)\n",
    "\n",
    "print()"
   ]
  },
  {
   "cell_type": "code",
   "execution_count": 8,
   "metadata": {},
   "outputs": [
    {
     "name": "stdout",
     "output_type": "stream",
     "text": [
      "[[1.95008842]\n",
      " [0.84864279]]\n",
      "[[0.04991158]\n",
      " [1.15135721]]\n",
      "[[0.79873121]]\n",
      "[[ 0.95008842  0.95008842]\n",
      " [-0.15135721 -0.15135721]]\n",
      "[[0.41317229]\n",
      " [0.4902065 ]\n",
      " [0.30474879]]\n",
      "\n",
      "[[1.95008842]\n",
      " [0.84864279]]\n",
      "[[0.04991158]\n",
      " [1.15135721]]\n",
      "[[0.79873121]]\n",
      "[[ 0.95008842  0.95008842]\n",
      " [-0.15135721 -0.15135721]]\n",
      "[[0.41317229]\n",
      " [0.4902065 ]\n",
      " [0.30474879]]\n",
      "\n"
     ]
    }
   ],
   "source": [
    "# Check against solution\n",
    "print(i)\n",
    "print(j)\n",
    "print(k)\n",
    "print(l)\n",
    "print(m)\n",
    "\n",
    "# Solution\n",
    "print(\"\"\"\n",
    "[[1.95008842]\n",
    " [0.84864279]]\n",
    "[[0.04991158]\n",
    " [1.15135721]]\n",
    "[[0.79873121]]\n",
    "[[ 0.95008842  0.95008842]\n",
    " [-0.15135721 -0.15135721]]\n",
    "[[0.41317229]\n",
    " [0.4902065 ]\n",
    " [0.30474879]]\n",
    "\"\"\")"
   ]
  },
  {
   "cell_type": "markdown",
   "metadata": {},
   "source": [
    "### Part d) Some more advanced exercises"
   ]
  },
  {
   "cell_type": "code",
   "execution_count": 9,
   "metadata": {},
   "outputs": [
    {
     "name": "stdout",
     "output_type": "stream",
     "text": [
      "\n"
     ]
    }
   ],
   "source": [
    "\"\"\"\n",
    "Create three NumPy arrays with the following conditions:\n",
    "- n: Subtract the mean of each column of a from a.\n",
    "- o: Sort a by the values in the second column. You should\n",
    "    use numpy.argsort().\n",
    "- p: Create p, which is a but with the first two rows and\n",
    "    first column set to the value of b. Do not modify a.\n",
    "\"\"\"\n",
    "n = a - np.mean(a, axis=0)\n",
    "o = a[a[:,1].argsort()]\n",
    "p = a.copy(); p[:2,:1] = b\n",
    "\n",
    "print()"
   ]
  },
  {
   "cell_type": "code",
   "execution_count": 10,
   "metadata": {},
   "outputs": [
    {
     "name": "stdout",
     "output_type": "stream",
     "text": [
      "[[ 0.02373628  0.07986715]\n",
      " [ 0.07768615 -0.09043904]\n",
      " [-0.10142243  0.01057189]]\n",
      "[[0.60276338 0.54488318]\n",
      " [0.4236548  0.64589411]\n",
      " [0.5488135  0.71518937]]\n",
      "[[ 0.95008842  0.71518937]\n",
      " [-0.15135721  0.54488318]\n",
      " [ 0.4236548   0.64589411]]\n",
      "[[0.5488135 ]\n",
      " [0.60276338]]\n",
      "\n",
      "[[ 0.02373628  0.07986715]\n",
      " [ 0.07768615 -0.09043904]\n",
      " [-0.10142243  0.01057189]]\n",
      "[[0.60276338 0.54488318]\n",
      " [0.4236548  0.64589411]\n",
      " [0.5488135  0.71518937]]\n",
      "[[ 0.95008842  0.71518937]\n",
      " [-0.15135721  0.54488318]\n",
      " [ 0.4236548   0.64589411]]\n",
      "[[0.5488135 ]\n",
      " [0.60276338]]\n",
      "\n"
     ]
    }
   ],
   "source": [
    "# Check against solution\n",
    "print(n)\n",
    "print(o)\n",
    "print(p)\n",
    "print(a[:2,:1])\n",
    "\n",
    "# Solution\n",
    "print(\"\"\"\n",
    "[[ 0.02373628  0.07986715]\n",
    " [ 0.07768615 -0.09043904]\n",
    " [-0.10142243  0.01057189]]\n",
    "[[0.60276338 0.54488318]\n",
    " [0.4236548  0.64589411]\n",
    " [0.5488135  0.71518937]]\n",
    "[[ 0.95008842  0.71518937]\n",
    " [-0.15135721  0.54488318]\n",
    " [ 0.4236548   0.64589411]]\n",
    "[[0.5488135 ]\n",
    " [0.60276338]]\n",
    "\"\"\")"
   ]
  },
  {
   "cell_type": "markdown",
   "metadata": {},
   "source": [
    "## Matplotlib"
   ]
  },
  {
   "cell_type": "code",
   "execution_count": 11,
   "metadata": {},
   "outputs": [
    {
     "data": {
      "image/png": "[encoded data removed]",
      "text/plain": [
       "<Figure size 432x288 with 4 Axes>"
      ]
     },
     "metadata": {
      "needs_background": "light"
     },
     "output_type": "display_data"
    },
    {
     "name": "stdout",
     "output_type": "stream",
     "text": [
      "\n"
     ]
    }
   ],
   "source": [
    "import matplotlib.pyplot as plt\n",
    "x = np.arange(100)\n",
    "y1 = np.arange(100)\n",
    "y2 = np.zeros(100)\n",
    "y3 = np.arange(100)[::-1]\n",
    "y4 = np.abs(y3 - y1)\n",
    "\n",
    "\"\"\"\n",
    "Create a Matplotlib figure with the following conditions:\n",
    "- 4 subplots in total, arranged in two rows and two columns.\n",
    "- The figure has the title 'Python Tutorial Exercise'.\n",
    "- Subplot 0, 0:\n",
    "    - Plots y1 vs x with a solid line.\n",
    "    - Subplot title is '1' with ylabel 'Subplot 1'.\n",
    "    - y-axis ticks on the left side.\n",
    "- Subplot 0, 1:\n",
    "    - Plots y2 vs x with a dashed line.\n",
    "    - Subplot title is '2' with ylabel 'Subplot 2'.\n",
    "    - y-axis ticks on the right side.\n",
    "- Subplot 1, 0:\n",
    "    - Plots y3 vs x with a solid line.\n",
    "    - ylabel 'Subplot 3' with xlabel 'x1'.\n",
    "    - y-axis ticks on the left side.\n",
    "- Subplot 1, 1:\n",
    "    - Plots y1 vs x with a solid line.\n",
    "    - ylabel 'Subplot 4' with xlabel 'x2'.\n",
    "    - y-axis ticks on the right side.\n",
    "\"\"\"\n",
    "fig, axes = plt.subplots(2, 2)\n",
    "fig.suptitle('Python Tutorial Exercise')\n",
    "axes[0][0].plot(x, y1, '-')\n",
    "axes[0][0].set_title('1')\n",
    "axes[0][0].set_ylabel('Subplot 1')\n",
    "\n",
    "axes[0][1].plot(x, y2, '--')\n",
    "axes[0][1].set_title('2')\n",
    "axes[0][1].set_ylabel('Subplot 2')\n",
    "axes[0][1].yaxis.tick_right()\n",
    "\n",
    "axes[1][0].plot(x, y3, '-')\n",
    "axes[1][0].set_xlabel('x1')\n",
    "axes[1][0].set_ylabel('Subplot 3')\n",
    "\n",
    "axes[1][1].plot(x, y4, '--')\n",
    "axes[1][1].set_xlabel('x2')\n",
    "axes[1][1].set_ylabel('Subplot 4')\n",
    "axes[1][1].yaxis.tick_right()\n",
    "\n",
    "plt.show()\n",
    "\n",
    "print()"
   ]
  },
  {
   "cell_type": "code",
   "execution_count": 12,
   "metadata": {},
   "outputs": [
    {
     "data": {
      "image/png": "[encoded data removed]",
      "text/plain": [
       "<PIL.PngImagePlugin.PngImageFile image mode=RGBA size=427x291 at 0x21FFFB56130>"
      ]
     },
     "metadata": {},
     "output_type": "display_data"
    }
   ],
   "source": [
    "from PIL import Image\n",
    "from IPython.display import display\n",
    "img = Image.open('solution_plot.png')\n",
    "display(img)"
   ]
  },
  {
   "cell_type": "code",
   "execution_count": null,
   "metadata": {},
   "outputs": [],
   "source": []
  }
 ],
 "metadata": {
  "kernelspec": {
   "display_name": "PyCharm (UMICH)",
   "language": "python",
   "name": "pycharm-a4405258"
  },
  "language_info": {
   "codemirror_mode": {
    "name": "ipython",
    "version": 3
   },
   "file_extension": ".py",
   "mimetype": "text/x-python",
   "name": "python",
   "nbconvert_exporter": "python",
   "pygments_lexer": "ipython3",
   "version": "3.8.3"
  }
 },
 "nbformat": 4,
 "nbformat_minor": 4
}
